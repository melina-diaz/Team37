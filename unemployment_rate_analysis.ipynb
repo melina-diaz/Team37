{
 "cells": [
  {
   "cell_type": "code",
   "execution_count": null,
   "id": "01b88af2",
   "metadata": {
    "scrolled": true
   },
   "outputs": [],
   "source": [
    "import numpy as np\n",
    "import pandas as pd"
   ]
  },
  {
   "cell_type": "code",
   "execution_count": null,
   "id": "7d463242",
   "metadata": {},
   "outputs": [],
   "source": [
    "with open('data/BLS/all_industries_unemployment_rate.csv') as f:\n",
    "    all_industries = pd.read_csv(f)"
   ]
  },
  {
   "cell_type": "code",
   "execution_count": null,
   "id": "2a90d715",
   "metadata": {
    "scrolled": false
   },
   "outputs": [],
   "source": [
    "all_industries.head(10)"
   ]
  },
  {
   "cell_type": "code",
   "execution_count": null,
   "id": "a93ad014",
   "metadata": {},
   "outputs": [],
   "source": [
    "all_industries.columns"
   ]
  },
  {
   "cell_type": "code",
   "execution_count": null,
   "id": "557e8481",
   "metadata": {},
   "outputs": [],
   "source": [
    "all_industries.dtypes"
   ]
  },
  {
   "cell_type": "code",
   "execution_count": null,
   "id": "12737765",
   "metadata": {
    "scrolled": true
   },
   "outputs": [],
   "source": [
    "all_industries[\"Year\"].drop_duplicates()"
   ]
  },
  {
   "cell_type": "code",
   "execution_count": null,
   "id": "81e419d2",
   "metadata": {},
   "outputs": [],
   "source": [
    "nys_df = pd.read_csv(\"data/BLS/nys_unemployment_rate.csv\")"
   ]
  },
  {
   "cell_type": "code",
   "execution_count": null,
   "id": "f6c7e1f0",
   "metadata": {
    "scrolled": false
   },
   "outputs": [],
   "source": [
    "nys_df.head(10)"
   ]
  },
  {
   "cell_type": "code",
   "execution_count": null,
   "id": "2163b43c",
   "metadata": {},
   "outputs": [],
   "source": [
    "# print(nys_df.dtypes)\n",
    "\n",
    "# print(nys_df[\"Year\"].drop_duplicates())"
   ]
  },
  {
   "cell_type": "code",
   "execution_count": null,
   "id": "0a27e8a6",
   "metadata": {},
   "outputs": [],
   "source": [
    "# # create a new column, Month, which extracts the month number from the Period column\n",
    "# all_industries[\"Month\"] = all_industries[\"Period\"].str[-2:]\n",
    "\n",
    "# # join the Year and Month columns\n",
    "# # by casting the columns to strings inside a lambda function, and joining with \"-\" using the .join method\n",
    "# all_industries[\"YYYY-MM\"] = all_industries.apply(lambda x: \"-\".join([str(x[\"Year\"]), str(x[\"Month\"])]), axis=1)\n",
    "\n",
    "# # create a Date column with the YYYY-MM strings converted to datetime\n",
    "# all_industries[\"Date\"] = pd.to_datetime(all_industries[\"YYYY-MM\"], format=\"%Y-%m\")\n",
    "\n",
    "# # convert Date from pd.datetime to Period\n",
    "# all_industries[\"Date\"] = all_industries[\"Date\"].dt.to_period(freq=\"Q\")\n",
    "\n",
    "# # drop the unnecessary columns\n",
    "# all_industries_clean = all_industries.drop(columns=[\"Series ID\", \"Period\", \"Label\", \"YYYY-MM\", \"Year\", \"Month\"])\n",
    "\n",
    "# # group by Period\n",
    "# all_industries_gob = all_industries_clean.groupby(\"Date\")\n",
    "\n",
    "# # calculate the mean unemployment rate for each quarter\n",
    "# all_industries_quarterly_ue = all_industries_gob.mean()\n",
    "\n",
    "# print(all_industries_quarterly_ue)"
   ]
  },
  {
   "cell_type": "code",
   "execution_count": null,
   "id": "09e4b805",
   "metadata": {},
   "outputs": [],
   "source": [
    "# create a new column, Month, which extracts the month number from the Period column\n",
    "all_industries[\"Month\"] = all_industries[\"Period\"].str[-2:]\n",
    "all_industries"
   ]
  },
  {
   "cell_type": "code",
   "execution_count": null,
   "id": "20a0d4f4",
   "metadata": {},
   "outputs": [],
   "source": [
    "# join the Year and Month columns into a new YYYY-MM column\n",
    "# by casting the columns to strings inside a lambda function, and joining with \"-\" using the .join method\n",
    "all_industries[\"YYYY-MM\"] = all_industries.apply(lambda x: \"-\".join([str(x[\"Year\"]), str(x[\"Month\"])]), axis=1)\n",
    "all_industries"
   ]
  },
  {
   "cell_type": "code",
   "execution_count": null,
   "id": "8f471a21",
   "metadata": {},
   "outputs": [],
   "source": [
    "# create a Date column with the YYYY-MM strings converted to pd.datetime\n",
    "all_industries[\"Date\"] = pd.to_datetime(all_industries[\"YYYY-MM\"], format=\"%Y-%m\")\n",
    "all_industries"
   ]
  },
  {
   "cell_type": "code",
   "execution_count": null,
   "id": "d9f74517",
   "metadata": {},
   "outputs": [],
   "source": [
    "# convert Date from pd.datetime to Period with frequency set to quarterly\n",
    "all_industries[\"Date\"] = all_industries[\"Date\"].dt.to_period(freq=\"Q\")\n",
    "all_industries"
   ]
  },
  {
   "cell_type": "code",
   "execution_count": null,
   "id": "e048d77d",
   "metadata": {},
   "outputs": [],
   "source": [
    "# drop the unnecessary columns\n",
    "all_industries_clean = all_industries.drop(columns=[\"Series ID\", \"Period\", \"Label\", \"YYYY-MM\", \"Year\", \"Month\"])\n",
    "all_industries_clean"
   ]
  },
  {
   "cell_type": "code",
   "execution_count": null,
   "id": "cd87d54f",
   "metadata": {},
   "outputs": [],
   "source": [
    "# group by Period\n",
    "all_industries_gob = all_industries_clean.groupby(\"Date\")\n",
    "all_industries_gob"
   ]
  },
  {
   "cell_type": "code",
   "execution_count": null,
   "id": "2d58d76a",
   "metadata": {},
   "outputs": [],
   "source": [
    "# calculate the mean unemployment rate for each quarter\n",
    "all_industries_quarterly_ue = all_industries_gob.mean()\n",
    "all_industries_quarterly_ue"
   ]
  },
  {
   "cell_type": "code",
   "execution_count": null,
   "id": "cb4146be",
   "metadata": {},
   "outputs": [],
   "source": [
    "all_industries_quarterly_ue.rename(columns = {'Value':'Unemployment Rate'}, inplace = True)\n",
    "all_industries_quarterly_ue"
   ]
  },
  {
   "cell_type": "code",
   "execution_count": null,
   "id": "2eec54dc",
   "metadata": {},
   "outputs": [],
   "source": [
    "# show the quarterly unemployment rates for 2020-2021\n",
    "all_industries_quarterly_ue.tail(8)"
   ]
  },
  {
   "cell_type": "code",
   "execution_count": null,
   "id": "41cfbd35",
   "metadata": {},
   "outputs": [],
   "source": [
    "all_industries_quarterly_ue.dtypes"
   ]
  },
  {
   "cell_type": "code",
   "execution_count": null,
   "id": "3ed4f81f",
   "metadata": {
    "scrolled": true
   },
   "outputs": [],
   "source": [
    "# create a new column, Month, which extracts the month number from the Period column\n",
    "nys_df[\"Month\"] = nys_df[\"Period\"].str[-2:]\n",
    "nys_df[\"YYYY-MM\"] = nys_df.apply(lambda x: \"-\".join([str(x[\"Year\"]), str(x[\"Month\"])]), axis=1)\n",
    "nys_df[\"Date\"] = pd.to_datetime(nys_df[\"YYYY-MM\"], format=\"%Y-%m\")\n",
    "nys_df[\"Date\"] = nys_df[\"Date\"].dt.to_period(freq=\"Q\")\n",
    "\n",
    "# drop unnecessary columns\n",
    "nys_clean = nys_df.drop(columns=[\"Series ID\", \"Period\", \"Label\", \"YYYY-MM\", \"Year\", \"Month\"])\n",
    "\n",
    "# group by Period\n",
    "nys_gob = nys_clean.groupby(\"Date\")\n",
    "nys_quarterly_ue = nys_gob.mean()\n",
    "print(nys_quarterly_ue)"
   ]
  },
  {
   "cell_type": "code",
   "execution_count": null,
   "id": "f3923415",
   "metadata": {},
   "outputs": [],
   "source": [
    "nys_quarterly_ue.tail(8)"
   ]
  },
  {
   "cell_type": "code",
   "execution_count": null,
   "id": "8b782b90",
   "metadata": {},
   "outputs": [],
   "source": [
    "# dates = nys_clean[\"Date\"]\n",
    "test_periods = pd.PeriodIndex(year=[2002]*4, quarter=[1,2,3,4])\n",
    "print(test_periods)\n",
    "print(nys_quarterly_ue.loc[test_periods])"
   ]
  },
  {
   "cell_type": "code",
   "execution_count": null,
   "id": "53ee6311",
   "metadata": {},
   "outputs": [],
   "source": [
    "with open(\"data/BLS/cali_unemployment_rate.csv\") as f:\n",
    "    cali_df = pd.read_csv(f)\n",
    "len(cali_df[\"Year\"])"
   ]
  },
  {
   "cell_type": "code",
   "execution_count": null,
   "id": "a544308f",
   "metadata": {},
   "outputs": [],
   "source": [
    "with open(\"data/BLS/tennessee_unemployment_rate.csv\") as f:\n",
    "    tennessee_df = pd.read_csv(f)\n",
    "len(tennessee_df[\"Year\"])"
   ]
  },
  {
   "cell_type": "code",
   "execution_count": null,
   "id": "4e6e7a58",
   "metadata": {},
   "outputs": [],
   "source": [
    "with open(\"data/BLS/georgia_unemployment_rate.csv\") as f:\n",
    "    georgia_df = pd.read_csv(f)\n",
    "len(georgia_df[\"Year\"])"
   ]
  },
  {
   "cell_type": "code",
   "execution_count": null,
   "id": "89f1151a",
   "metadata": {},
   "outputs": [],
   "source": [
    "with open(\"data/BLS/minnesota_unemployment_rate.csv\") as f:\n",
    "    minnesota_df = pd.read_csv(f)\n",
    "len(minnesota_df[\"Year\"])"
   ]
  },
  {
   "cell_type": "code",
   "execution_count": null,
   "id": "4e61d10d",
   "metadata": {},
   "outputs": [],
   "source": [
    "with open(\"data/BLS/florida_unemployment_rate.csv\") as f:\n",
    "    florida_df = pd.read_csv(f)\n",
    "len(florida_df[\"Year\"])"
   ]
  },
  {
   "cell_type": "code",
   "execution_count": null,
   "id": "c2a7d57f",
   "metadata": {},
   "outputs": [],
   "source": [
    "with open(\"data/BLS/idaho_unemployment_rate.csv\") as f:\n",
    "    idaho_df = pd.read_csv(f)\n",
    "len(idaho_df[\"Year\"])"
   ]
  },
  {
   "cell_type": "code",
   "execution_count": null,
   "id": "caeec1e6",
   "metadata": {},
   "outputs": [],
   "source": [
    "with open(\"data/BLS/iowa_unemployment_rate.csv\") as f:\n",
    "    iowa_df = pd.read_csv(f)\n",
    "len(iowa_df[\"Year\"])"
   ]
  },
  {
   "cell_type": "code",
   "execution_count": null,
   "id": "dc66fb37",
   "metadata": {},
   "outputs": [],
   "source": [
    "with open(\"data/BLS/illinois_unemployment_rate.csv\") as f:\n",
    "    illinois_df = pd.read_csv(f)\n",
    "len(illinois_df[\"Year\"])"
   ]
  },
  {
   "cell_type": "code",
   "execution_count": null,
   "id": "c5c9d044",
   "metadata": {},
   "outputs": [],
   "source": [
    "with open(\"data/BLS/washington_unemployment_rate.csv\") as f:\n",
    "    washington_df = pd.read_csv(f)\n",
    "len(washington_df[\"Year\"])"
   ]
  },
  {
   "cell_type": "code",
   "execution_count": null,
   "id": "ca4501cb",
   "metadata": {},
   "outputs": [],
   "source": [
    "with open(\"data/BLS/virginia_unemployment_rate.csv\") as f:\n",
    "    virginia_df = pd.read_csv(f)\n",
    "len(virginia_df[\"Year\"])"
   ]
  },
  {
   "cell_type": "code",
   "execution_count": null,
   "id": "cf1df0e3",
   "metadata": {},
   "outputs": [],
   "source": [
    "with open(\"data/BLS/texas_unemployment_rate.csv\") as f:\n",
    "    texas_df = pd.read_csv(f)\n",
    "len(texas_df[\"Year\"])"
   ]
  },
  {
   "cell_type": "code",
   "execution_count": null,
   "id": "7422a0c8",
   "metadata": {},
   "outputs": [],
   "source": [
    "with open(\"data/BLS/maryland_unemployment_rate.csv\") as f:\n",
    "    maryland_df = pd.read_csv(f)\n",
    "len(maryland_df[\"Year\"])"
   ]
  },
  {
   "cell_type": "code",
   "execution_count": null,
   "id": "cb402acb",
   "metadata": {},
   "outputs": [],
   "source": [
    "#import matplotlib.pyplot as plt"
   ]
  }
 ],
 "metadata": {
  "kernelspec": {
   "display_name": "Python 3",
   "language": "python",
   "name": "python3"
  },
  "language_info": {
   "codemirror_mode": {
    "name": "ipython",
    "version": 3
   },
   "file_extension": ".py",
   "mimetype": "text/x-python",
   "name": "python",
   "nbconvert_exporter": "python",
   "pygments_lexer": "ipython3",
   "version": "3.8.8"
  }
 },
 "nbformat": 4,
 "nbformat_minor": 5
}
